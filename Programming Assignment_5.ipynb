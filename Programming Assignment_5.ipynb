{
 "cells": [
  {
   "cell_type": "markdown",
   "id": "4ac9602a",
   "metadata": {},
   "source": [
    "## Python Basic Programming Assignment - 5\n",
    "--------------\n"
   ]
  },
  {
   "cell_type": "markdown",
   "id": "fdaeee06",
   "metadata": {},
   "source": [
    "### 1. Write a Python Program to Find LCM?"
   ]
  },
  {
   "cell_type": "code",
   "execution_count": 6,
   "id": "f23ab918",
   "metadata": {},
   "outputs": [
    {
     "name": "stdout",
     "output_type": "stream",
     "text": [
      "Enter the first number:4\n",
      "Enter the second number:6\n",
      "LCM of 4 and 6 = 12\n"
     ]
    }
   ],
   "source": [
    "a=int(input(\"Enter the first number:\"))\n",
    "b=int(input(\"Enter the second number:\"))\n",
    "if(a>b):\n",
    "    min1=a                                   # check for smaller number\n",
    "else:\n",
    "    min1=b\n",
    "while(1):\n",
    "    if(min1%a==0 and min1%b==0):\n",
    "        print(\"LCM of\",a,\"and\",b,\"=\",min1)\n",
    "        break\n",
    "    min1=min1+1"
   ]
  },
  {
   "cell_type": "markdown",
   "id": "2f459cdf",
   "metadata": {},
   "source": [
    "### 2. Write a Python Program to Find HCF?"
   ]
  },
  {
   "cell_type": "code",
   "execution_count": 8,
   "id": "6fdbcf1c",
   "metadata": {},
   "outputs": [
    {
     "name": "stdout",
     "output_type": "stream",
     "text": [
      "Enter the first number:9\n",
      "Enter the second number:27\n",
      "Hcf of 9 and 27 is 3\n"
     ]
    }
   ],
   "source": [
    "n1 = int(input(\"Enter the first number:\"))\n",
    "n2 = int(input(\"Enter the second number:\"))\n",
    "hcf = 1\n",
    "\n",
    "for i in range(1, min(n1, n2)):\n",
    "    if n1 % i == 0 and n2 % i == 0:\n",
    "        hcf = i\n",
    "print(\"Hcf of\", n1, \"and\", n2, \"is\", hcf)"
   ]
  },
  {
   "cell_type": "markdown",
   "id": "d2c29370",
   "metadata": {},
   "source": [
    "### 3. Write a Python Program to Convert Decimal to Binary, Octal and Hexadecimal?"
   ]
  },
  {
   "cell_type": "code",
   "execution_count": 11,
   "id": "13f1c794",
   "metadata": {},
   "outputs": [
    {
     "name": "stdout",
     "output_type": "stream",
     "text": [
      "Enter any number 9\n",
      "Binary of 9 = 0b1001\n",
      "Octal of 9 = 0o11\n",
      "Hexadecimal of 9 = 0x9\n"
     ]
    }
   ],
   "source": [
    "n=int(input(\"Enter any number \"))\n",
    "print(\"Binary of\",n,\"=\",bin(n))\n",
    "print(\"Octal of\",n,\"=\",oct(n))\n",
    "print(\"Hexadecimal of\",n,\"=\",hex(n))"
   ]
  },
  {
   "cell_type": "markdown",
   "id": "2a16c5fd",
   "metadata": {},
   "source": [
    "### 4. Write a Python Program To Find ASCII value of a character?"
   ]
  },
  {
   "cell_type": "code",
   "execution_count": 17,
   "id": "db5586e2",
   "metadata": {},
   "outputs": [
    {
     "name": "stdout",
     "output_type": "stream",
     "text": [
      "Enter any Character @\n",
      "ASCII value of @ = 64\n"
     ]
    }
   ],
   "source": [
    "n=input(\"Enter any Character \")\n",
    "if len(n)>1:\n",
    "    print(\"Error! please enter single Character\")\n",
    "else:\n",
    "    print(\"ASCII value of\",n,\"=\",ord(n))"
   ]
  },
  {
   "cell_type": "markdown",
   "id": "226778a0",
   "metadata": {},
   "source": [
    "### 5. Write a Python Program to Make a Simple Calculator with 4 basic mathematical operations?"
   ]
  },
  {
   "cell_type": "code",
   "execution_count": 2,
   "id": "f3b0c01c",
   "metadata": {},
   "outputs": [
    {
     "name": "stdout",
     "output_type": "stream",
     "text": [
      "Select from the following operations \n",
      "Press 1 for Addition \n",
      "Press 2 for Substraction \n",
      "Press 3 for Multiplication \n",
      "Press 4 for Division\n",
      "4\n",
      "Enter the first number:43\n",
      "Enter the second number:8\n",
      "5.375\n"
     ]
    }
   ],
   "source": [
    "n=int(input(\"Select from the following operations \\nPress 1 for Addition \\nPress 2 for Substraction \\nPress 3 for Multiplication \\nPress 4 for Division\\n\" ))\n",
    "\n",
    "n1 = int(input(\"Enter the first number:\"))\n",
    "n2 = int(input(\"Enter the second number:\"))\n",
    "if n==1:\n",
    "    print(n1+n2)\n",
    "elif n==2:\n",
    "    print(n1-n2)\n",
    "elif n==3:\n",
    "    print(n1*n2)\n",
    "elif n==4:\n",
    "    print(n1/n2)\n",
    "else:\n",
    "    print(\"error\")"
   ]
  }
 ],
 "metadata": {
  "kernelspec": {
   "display_name": "Python 3",
   "language": "python",
   "name": "python3"
  },
  "language_info": {
   "codemirror_mode": {
    "name": "ipython",
    "version": 3
   },
   "file_extension": ".py",
   "mimetype": "text/x-python",
   "name": "python",
   "nbconvert_exporter": "python",
   "pygments_lexer": "ipython3",
   "version": "3.8.8"
  }
 },
 "nbformat": 4,
 "nbformat_minor": 5
}
