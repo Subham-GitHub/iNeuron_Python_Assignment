{
 "cells": [
  {
   "cell_type": "markdown",
   "id": "08c66ea5",
   "metadata": {},
   "source": [
    "## Programming Assignment_2\n",
    "-------------"
   ]
  },
  {
   "cell_type": "markdown",
   "id": "4e50cf42",
   "metadata": {},
   "source": [
    "### 1. Write a Python program to convert kilometers to miles?\n"
   ]
  },
  {
   "cell_type": "code",
   "execution_count": 8,
   "id": "1b9dda74",
   "metadata": {},
   "outputs": [
    {
     "name": "stdout",
     "output_type": "stream",
     "text": [
      "Enter the distance in Kilometer(s) 9\n",
      "9 Kilometer(s) = 5.59 Mile(s)\n"
     ]
    }
   ],
   "source": [
    "a=eval(input(\"Enter the distance in Kilometer(s) \"))\n",
    "m=round(0.62137119*a,2)\n",
    "print(a,\"Kilometer(s) =\",m,\"Mile(s)\")"
   ]
  },
  {
   "cell_type": "markdown",
   "id": "0df4e6bf",
   "metadata": {},
   "source": [
    "### 2.Write a Python program to convert Celsius to Fahrenheit?"
   ]
  },
  {
   "cell_type": "code",
   "execution_count": 17,
   "id": "5c9241e6",
   "metadata": {},
   "outputs": [
    {
     "name": "stdout",
     "output_type": "stream",
     "text": [
      "Enter the Temperature in Celsius 25.4\n",
      "25.4 Celsius = 77.72 Fahrenheit\n"
     ]
    }
   ],
   "source": [
    "c=eval(input(\"Enter the Temperature in Celsius \"))\n",
    "f=round((1.8*c)+32,2)\n",
    "print(c,\"Celsius =\",f,\"Fahrenheit\")"
   ]
  },
  {
   "cell_type": "markdown",
   "id": "46129b8e",
   "metadata": {},
   "source": [
    "### 3. Write a Python program to display calendar?\n"
   ]
  },
  {
   "cell_type": "code",
   "execution_count": 36,
   "id": "5b13996e",
   "metadata": {},
   "outputs": [
    {
     "name": "stdout",
     "output_type": "stream",
     "text": [
      "Enter Year 2021\n",
      "                                  2021\n",
      "\n",
      "      January                   February                   March\n",
      "Mo Tu We Th Fr Sa Su      Mo Tu We Th Fr Sa Su      Mo Tu We Th Fr Sa Su\n",
      "             1  2  3       1  2  3  4  5  6  7       1  2  3  4  5  6  7\n",
      " 4  5  6  7  8  9 10       8  9 10 11 12 13 14       8  9 10 11 12 13 14\n",
      "11 12 13 14 15 16 17      15 16 17 18 19 20 21      15 16 17 18 19 20 21\n",
      "18 19 20 21 22 23 24      22 23 24 25 26 27 28      22 23 24 25 26 27 28\n",
      "25 26 27 28 29 30 31                                29 30 31\n",
      "\n",
      "       April                      May                       June\n",
      "Mo Tu We Th Fr Sa Su      Mo Tu We Th Fr Sa Su      Mo Tu We Th Fr Sa Su\n",
      "          1  2  3  4                      1  2          1  2  3  4  5  6\n",
      " 5  6  7  8  9 10 11       3  4  5  6  7  8  9       7  8  9 10 11 12 13\n",
      "12 13 14 15 16 17 18      10 11 12 13 14 15 16      14 15 16 17 18 19 20\n",
      "19 20 21 22 23 24 25      17 18 19 20 21 22 23      21 22 23 24 25 26 27\n",
      "26 27 28 29 30            24 25 26 27 28 29 30      28 29 30\n",
      "                          31\n",
      "\n",
      "        July                     August                  September\n",
      "Mo Tu We Th Fr Sa Su      Mo Tu We Th Fr Sa Su      Mo Tu We Th Fr Sa Su\n",
      "          1  2  3  4                         1             1  2  3  4  5\n",
      " 5  6  7  8  9 10 11       2  3  4  5  6  7  8       6  7  8  9 10 11 12\n",
      "12 13 14 15 16 17 18       9 10 11 12 13 14 15      13 14 15 16 17 18 19\n",
      "19 20 21 22 23 24 25      16 17 18 19 20 21 22      20 21 22 23 24 25 26\n",
      "26 27 28 29 30 31         23 24 25 26 27 28 29      27 28 29 30\n",
      "                          30 31\n",
      "\n",
      "      October                   November                  December\n",
      "Mo Tu We Th Fr Sa Su      Mo Tu We Th Fr Sa Su      Mo Tu We Th Fr Sa Su\n",
      "             1  2  3       1  2  3  4  5  6  7             1  2  3  4  5\n",
      " 4  5  6  7  8  9 10       8  9 10 11 12 13 14       6  7  8  9 10 11 12\n",
      "11 12 13 14 15 16 17      15 16 17 18 19 20 21      13 14 15 16 17 18 19\n",
      "18 19 20 21 22 23 24      22 23 24 25 26 27 28      20 21 22 23 24 25 26\n",
      "25 26 27 28 29 30 31      29 30                     27 28 29 30 31\n",
      "\n"
     ]
    }
   ],
   "source": [
    "import calendar                                  ### whole year Calendar\n",
    "y=eval(input(\"Enter Year \"))\n",
    "print(calendar.calendar(y))"
   ]
  },
  {
   "cell_type": "code",
   "execution_count": 35,
   "id": "1ed815d1",
   "metadata": {},
   "outputs": [
    {
     "name": "stdout",
     "output_type": "stream",
     "text": [
      "Enter Year 2022\n",
      "Enter Month 12\n",
      "   December 2022\n",
      "Mo Tu We Th Fr Sa Su\n",
      "          1  2  3  4\n",
      " 5  6  7  8  9 10 11\n",
      "12 13 14 15 16 17 18\n",
      "19 20 21 22 23 24 25\n",
      "26 27 28 29 30 31\n",
      "\n"
     ]
    }
   ],
   "source": [
    "import calendar                                         ### Monthly Calendar\n",
    "y=eval(input(\"Enter Year \"))\n",
    "m=eval(input(\"Enter Month \"))\n",
    "print(calendar.month(y,m))"
   ]
  },
  {
   "cell_type": "markdown",
   "id": "db2bf0f7",
   "metadata": {},
   "source": [
    "### 4. Write a Python program to solve quadratic equation?"
   ]
  },
  {
   "cell_type": "code",
   "execution_count": 13,
   "id": "46c21c14",
   "metadata": {},
   "outputs": [
    {
     "name": "stdout",
     "output_type": "stream",
     "text": [
      "5.0\n"
     ]
    }
   ],
   "source": [
    "print(mt.sqrt(25))"
   ]
  },
  {
   "cell_type": "code",
   "execution_count": 21,
   "id": "bdbbff82",
   "metadata": {},
   "outputs": [
    {
     "name": "stdout",
     "output_type": "stream",
     "text": [
      "Enter the coffecient of x^2 1\n",
      "Enter the coffecient of x 2\n",
      "Enter the coffecient of constant -15\n",
      "values of quadratic equation are  3.0 -5.0\n"
     ]
    }
   ],
   "source": [
    "import math as mt\n",
    "a=eval(input(\"Enter the coffecient of x^2 \"))\n",
    "b=eval(input(\"Enter the coffecient of x \"))\n",
    "c=eval(input(\"Enter the coffecient of constant \"))\n",
    "d=mt.sqrt(b*b-4*a*c)                                  ## Calculating discriminant value\n",
    "x1=(-b+d)/2*a\n",
    "x2=(-b-d)/2*a\n",
    "print(\"values of quadratic equation are \",x1,x2)"
   ]
  },
  {
   "cell_type": "markdown",
   "id": "f70f74c9",
   "metadata": {},
   "source": [
    "### 5. Write a Python program to swap two variables without temp variable?"
   ]
  },
  {
   "cell_type": "code",
   "execution_count": 22,
   "id": "b5546b13",
   "metadata": {},
   "outputs": [
    {
     "name": "stdout",
     "output_type": "stream",
     "text": [
      "Enter 1st value: 2\n",
      "Enter 2nd value: 5\n",
      "::::Swaped variable::::\n",
      "value of 1st now :  5\n",
      "value of 2nd now :  2\n"
     ]
    }
   ],
   "source": [
    "v1 = input(\"Enter 1st value: \")\n",
    "v2 = input(\"Enter 2nd value: \")\n",
    "v1,v2=v2,v1\n",
    "print(\"::::Swaped variable::::\")\n",
    "print(\"value of 1st now : \",v1)\n",
    "print(\"value of 2nd now : \",v2)"
   ]
  },
  {
   "cell_type": "markdown",
   "id": "64c49e6a",
   "metadata": {},
   "source": [
    "                                             *******END*******"
   ]
  }
 ],
 "metadata": {
  "kernelspec": {
   "display_name": "Python 3",
   "language": "python",
   "name": "python3"
  },
  "language_info": {
   "codemirror_mode": {
    "name": "ipython",
    "version": 3
   },
   "file_extension": ".py",
   "mimetype": "text/x-python",
   "name": "python",
   "nbconvert_exporter": "python",
   "pygments_lexer": "ipython3",
   "version": "3.8.8"
  }
 },
 "nbformat": 4,
 "nbformat_minor": 5
}
