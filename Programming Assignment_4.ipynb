{
 "cells": [
  {
   "cell_type": "markdown",
   "id": "20cb4340",
   "metadata": {},
   "source": [
    "## Programming Assignment_4\n",
    "----------------"
   ]
  },
  {
   "cell_type": "markdown",
   "id": "4fdb6695",
   "metadata": {},
   "source": [
    "### 1. Write a Python Program to Find the Factorial of a Number?"
   ]
  },
  {
   "cell_type": "code",
   "execution_count": 8,
   "id": "4cbba1e4",
   "metadata": {},
   "outputs": [
    {
     "name": "stdout",
     "output_type": "stream",
     "text": [
      "Enter Number 4\n",
      "Factorial =  24\n"
     ]
    }
   ],
   "source": [
    "n=eval(input(\"Enter Number \"))\n",
    "for i in range(1,n):\n",
    "    n=n*i\n",
    "print(\"Factorial = \",n)"
   ]
  },
  {
   "cell_type": "markdown",
   "id": "e6beef62",
   "metadata": {},
   "source": [
    "### 2. Write a Python Program to Display the multiplication Table?"
   ]
  },
  {
   "cell_type": "code",
   "execution_count": 34,
   "id": "ef181e4a",
   "metadata": {},
   "outputs": [
    {
     "name": "stdout",
     "output_type": "stream",
     "text": [
      "Enter Number 9\n",
      "9 x 1 = 9\n",
      "9 x 2 = 18\n",
      "9 x 3 = 27\n",
      "9 x 4 = 36\n",
      "9 x 5 = 45\n",
      "9 x 6 = 54\n",
      "9 x 7 = 63\n",
      "9 x 8 = 72\n",
      "9 x 9 = 81\n",
      "9 x 10 = 90\n"
     ]
    }
   ],
   "source": [
    "x=eval(input(\"Enter Number \"))\n",
    "for i in range(1,11):\n",
    "    a=x*i\n",
    "    print(x,\"x\",i,\"=\",a)"
   ]
  },
  {
   "cell_type": "markdown",
   "id": "7de7eba5",
   "metadata": {},
   "source": [
    "### 3. Write a Python Program to Print the Fibonacci sequence?\n"
   ]
  },
  {
   "cell_type": "code",
   "execution_count": 39,
   "id": "582fcc3f",
   "metadata": {},
   "outputs": [
    {
     "name": "stdout",
     "output_type": "stream",
     "text": [
      "Enter the terms 9\n",
      "0\n",
      "1\n",
      "1\n",
      "2\n",
      "3\n",
      "5\n",
      "8\n",
      "13\n",
      "21\n"
     ]
    }
   ],
   "source": [
    "n=int(input(\"Enter the terms \"))                                                ##Using If, else and for loop\n",
    "if(n<0):\n",
    "    print(\"Invalid input, Please enter positve number greater than 2\")\n",
    "elif(n>0):\n",
    "    a=0\n",
    "    b=1\n",
    "    print(a)\n",
    "    print(b)\n",
    "    for i in range(2,n):\n",
    "        c=a+b\n",
    "        a=b\n",
    "        b=c\n",
    "        print(c)\n",
    "    "
   ]
  },
  {
   "cell_type": "code",
   "execution_count": 25,
   "id": "df58b5b0",
   "metadata": {},
   "outputs": [
    {
     "name": "stdout",
     "output_type": "stream",
     "text": [
      "Enter the terms 9\n",
      "0\n",
      "1\n",
      "1\n",
      "2\n",
      "3\n",
      "5\n",
      "8\n",
      "13\n",
      "21\n"
     ]
    }
   ],
   "source": [
    "def fib(n):                                                         ## Using function/ Recursion\n",
    "        a=0\n",
    "        b=1\n",
    "        print(a)\n",
    "        print(b)\n",
    "        for i in range(2,n):\n",
    "            c=a+b\n",
    "            a=b\n",
    "            b=c\n",
    "            print(c)\n",
    "            \n",
    "n=int(input(\"Enter the terms \"))\n",
    "if(n<0):\n",
    "    print(\"Invalid input, Please enter positve number\")\n",
    "elif(n>0):\n",
    "    fib(n)"
   ]
  },
  {
   "cell_type": "code",
   "execution_count": 28,
   "id": "684e78e8",
   "metadata": {},
   "outputs": [
    {
     "name": "stdout",
     "output_type": "stream",
     "text": [
      "Enter the terms 9\n",
      "[0, 1, 1, 2, 3, 5, 8, 13, 21]\n"
     ]
    }
   ],
   "source": [
    "def fib(n):                                                         ## Using function/ Recursion and list\n",
    "        x=[0,1]\n",
    "        for i in range(2,n):\n",
    "            c=x[i-2]+x[i-1]\n",
    "            x.append(c)\n",
    "        print(x)\n",
    "            \n",
    "n=int(input(\"Enter the terms \"))\n",
    "if(n<0):\n",
    "    print(\"Invalid input, Please enter positve number\")\n",
    "elif(n>0):\n",
    "    fib(n)"
   ]
  },
  {
   "cell_type": "markdown",
   "id": "0446442e",
   "metadata": {},
   "source": [
    "### 4. Write a Python Program to Check Armstrong Number?"
   ]
  },
  {
   "cell_type": "code",
   "execution_count": 3,
   "id": "2f668dc9",
   "metadata": {},
   "outputs": [
    {
     "name": "stdout",
     "output_type": "stream",
     "text": [
      "Enter the number 111\n",
      "111 is not an Armstrong number\n"
     ]
    }
   ],
   "source": [
    "n = eval(input(\"Enter the number \"))                                                      \n",
    "order = len(str(n))                          # Changed num variable to string,and calculated the length (number of digits) \n",
    "s = 0                                                                # initialize sum\n",
    "temp = n                                   \n",
    "\n",
    "                                                        # find the sum of the nth power of each digit\n",
    "while temp > 0:\n",
    "    a = temp % 10\n",
    "    s = s + a ** order\n",
    "    temp = temp//10                                                # display the result\n",
    "\n",
    "if n == s:\n",
    "    print(n,\"is an Armstrong number\")\n",
    "else:\n",
    "    print(n,\"is not an Armstrong number\")\n"
   ]
  },
  {
   "cell_type": "markdown",
   "id": "a6f9adfe",
   "metadata": {},
   "source": [
    "### 5. Write a Python Program to Find Armstrong Number in an Interval?"
   ]
  },
  {
   "cell_type": "code",
   "execution_count": 23,
   "id": "9f7ef731",
   "metadata": {},
   "outputs": [
    {
     "name": "stdout",
     "output_type": "stream",
     "text": [
      "Enter lower limit number 1\n",
      "Enter Upper limit number 1000\n",
      "[1, 2, 3, 4, 5, 6, 7, 8, 9, 153, 370, 371, 407]\n"
     ]
    }
   ],
   "source": [
    "n1 = eval(input(\"Enter lower limit number \")) \n",
    "n2 = eval(input(\"Enter Upper limit number \"))\n",
    "x=[]\n",
    "for i in range(n1,n2):\n",
    "    temp=i\n",
    "    s = 0\n",
    "    order = len(str(i))\n",
    "    while temp>0:\n",
    "        a = temp % 10\n",
    "        s = s + a ** order\n",
    "        temp = temp//10\n",
    "    if i == s:\n",
    "        x.append(i)\n",
    "print(x)"
   ]
  },
  {
   "cell_type": "markdown",
   "id": "157cad60",
   "metadata": {},
   "source": [
    "### 6. Write a Python Program to Find the Sum of Natural Numbers?"
   ]
  },
  {
   "cell_type": "code",
   "execution_count": 15,
   "id": "c69580ae",
   "metadata": {},
   "outputs": [
    {
     "name": "stdout",
     "output_type": "stream",
     "text": [
      "Enter the terms to sum-up 4\n",
      "Sum of 4 Natural Number= 10\n"
     ]
    }
   ],
   "source": [
    "n=eval(input(\"Enter the terms to sum-up \"))\n",
    "s=0\n",
    "for i in range(n+1):\n",
    "    s=s+i\n",
    "print(\"Sum of\",i,\"Natural Number=\" ,s)"
   ]
  },
  {
   "cell_type": "markdown",
   "id": "a59c5f59",
   "metadata": {},
   "source": [
    "                                                    ***End***"
   ]
  }
 ],
 "metadata": {
  "kernelspec": {
   "display_name": "Python 3",
   "language": "python",
   "name": "python3"
  },
  "language_info": {
   "codemirror_mode": {
    "name": "ipython",
    "version": 3
   },
   "file_extension": ".py",
   "mimetype": "text/x-python",
   "name": "python",
   "nbconvert_exporter": "python",
   "pygments_lexer": "ipython3",
   "version": "3.8.8"
  }
 },
 "nbformat": 4,
 "nbformat_minor": 5
}
