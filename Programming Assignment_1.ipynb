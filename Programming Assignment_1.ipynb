{
 "cells": [
  {
   "cell_type": "markdown",
   "id": "637b47a5",
   "metadata": {},
   "source": [
    "## Programming Assignment_1\n",
    "-------------"
   ]
  },
  {
   "cell_type": "markdown",
   "id": "0c647dbe",
   "metadata": {},
   "source": [
    "### 1. Write a Python program to print \"Hello Python\"?"
   ]
  },
  {
   "cell_type": "code",
   "execution_count": 1,
   "id": "974a70a8",
   "metadata": {},
   "outputs": [
    {
     "name": "stdout",
     "output_type": "stream",
     "text": [
      "Hello Python\n"
     ]
    }
   ],
   "source": [
    "print(\"Hello Python\");"
   ]
  },
  {
   "cell_type": "markdown",
   "id": "fc18a6cd",
   "metadata": {},
   "source": [
    "### 2. Write a Python program to do arithmetical operations addition and division.?\n"
   ]
  },
  {
   "cell_type": "code",
   "execution_count": 2,
   "id": "7de41971",
   "metadata": {},
   "outputs": [
    {
     "name": "stdout",
     "output_type": "stream",
     "text": [
      "addition = 13\n",
      "division = 3.5\n",
      "<class 'int'>\n",
      "<class 'float'>\n"
     ]
    }
   ],
   "source": [
    "i=5+8                                             ## By using predefined values.\n",
    "print(\"addition =\" ,i);\n",
    "d=7/2\n",
    "print(\"division =\",d);\n",
    "print(type(i)); print(type(d));"
   ]
  },
  {
   "cell_type": "code",
   "execution_count": 3,
   "id": "16fcfdb4",
   "metadata": {},
   "outputs": [
    {
     "name": "stdout",
     "output_type": "stream",
     "text": [
      "Enter 1st number 2\n",
      "Enter 2nd number 4\n",
      "Sum =  6\n",
      "Division =  0.5\n"
     ]
    }
   ],
   "source": [
    "a=eval(input(\"Enter 1st number \"))                 ## By taking input from users. \n",
    "b=eval(input(\"Enter 2nd number \"))\n",
    "\n",
    "Sum= a+b\n",
    "Div= a/b\n",
    "print(\"Sum = \",Sum)\n",
    "print(\"Division = \",Div)"
   ]
  },
  {
   "cell_type": "markdown",
   "id": "af6e2429",
   "metadata": {},
   "source": [
    "### 3. Write a Python program to find the area of a triangle?\n"
   ]
  },
  {
   "cell_type": "code",
   "execution_count": 4,
   "id": "d7b00a24",
   "metadata": {},
   "outputs": [
    {
     "name": "stdout",
     "output_type": "stream",
     "text": [
      "area using base and height =  6.0\n",
      "area using length of sides =  9.16515138991168\n"
     ]
    }
   ],
   "source": [
    "base=4\n",
    "height=3\n",
    "area_1=(base*height)/2\n",
    "print(\"area using base and height = \",area_1);\n",
    "\n",
    "import math\n",
    "side_a=5\n",
    "side_b=5\n",
    "side_c=4\n",
    "s=(side_a+side_b+side_c)/2\n",
    "area_2=math.sqrt(s*(s-side_a)*(s-side_b)*(s-side_c))\n",
    "print (\"area using length of sides = \",area_2)"
   ]
  },
  {
   "cell_type": "markdown",
   "id": "b8140061",
   "metadata": {},
   "source": [
    "### 4. Write a Python program to swap two variables?"
   ]
  },
  {
   "cell_type": "code",
   "execution_count": 1,
   "id": "c99adebf",
   "metadata": {},
   "outputs": [
    {
     "name": "stdout",
     "output_type": "stream",
     "text": [
      "Enter 1st value: 2\n",
      "Enter 2nd value: 5\n",
      "::::Swaped variable::::\n",
      "value of 1st now :  5\n",
      "value of 2nd now :  2\n"
     ]
    }
   ],
   "source": [
    "v1 = input(\"Enter 1st value: \")\n",
    "v2 = input(\"Enter 2nd value: \")\n",
    "t=v1                                       ## Subsituting value of v1 in temporary varaible \"t\" \n",
    "v1=v2\n",
    "v2=t\n",
    "print(\"::::Swaped variable::::\")\n",
    "print(\"value of 1st now : \",v1)\n",
    "print(\"value of 2nd now : \",v2)"
   ]
  },
  {
   "cell_type": "markdown",
   "id": "4cd20900",
   "metadata": {},
   "source": [
    "### 5. Write a Python program to generate a random number?"
   ]
  },
  {
   "cell_type": "code",
   "execution_count": 6,
   "id": "750d8a87",
   "metadata": {},
   "outputs": [
    {
     "data": {
      "text/plain": [
       "96"
      ]
     },
     "execution_count": 6,
     "metadata": {},
     "output_type": "execute_result"
    }
   ],
   "source": [
    "import random\n",
    "random.randint(1,100)"
   ]
  },
  {
   "cell_type": "markdown",
   "id": "ca42dc1b",
   "metadata": {},
   "source": [
    "                                             *******END*******"
   ]
  }
 ],
 "metadata": {
  "kernelspec": {
   "display_name": "Python 3",
   "language": "python",
   "name": "python3"
  },
  "language_info": {
   "codemirror_mode": {
    "name": "ipython",
    "version": 3
   },
   "file_extension": ".py",
   "mimetype": "text/x-python",
   "name": "python",
   "nbconvert_exporter": "python",
   "pygments_lexer": "ipython3",
   "version": "3.8.8"
  },
  "widgets": {
   "application/vnd.jupyter.widget-state+json": {
    "state": {},
    "version_major": 2,
    "version_minor": 0
   }
  }
 },
 "nbformat": 4,
 "nbformat_minor": 5
}
