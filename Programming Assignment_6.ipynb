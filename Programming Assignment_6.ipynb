{
 "cells": [
  {
   "cell_type": "markdown",
   "id": "84a41a9f",
   "metadata": {},
   "source": [
    "# Programming Basic Assignment 6"
   ]
  },
  {
   "cell_type": "markdown",
   "id": "a4b40558",
   "metadata": {},
   "source": [
    "### 1. Write a Python Program to Display Fibonacci Sequence Using Recursion?"
   ]
  },
  {
   "cell_type": "code",
   "execution_count": 4,
   "id": "20ffb772",
   "metadata": {},
   "outputs": [
    {
     "name": "stdout",
     "output_type": "stream",
     "text": [
      "Enter the terms 10\n",
      "0\n",
      "1\n",
      "1\n",
      "2\n",
      "3\n",
      "5\n",
      "8\n",
      "13\n",
      "21\n",
      "34\n"
     ]
    }
   ],
   "source": [
    "def fib(n):                                                         ## Using function/ Recursion\n",
    "        a=0\n",
    "        b=1\n",
    "        print(a)\n",
    "        print(b)\n",
    "        for i in range(2,n):\n",
    "            c=a+b\n",
    "            a=b\n",
    "            b=c\n",
    "            print(c)\n",
    "            \n",
    "n=int(input(\"Enter the terms \"))\n",
    "if(n<0):\n",
    "    print(\"Invalid input, Please enter positve number\")\n",
    "elif(n>0):\n",
    "    fib(n)"
   ]
  },
  {
   "cell_type": "markdown",
   "id": "d7a57f60",
   "metadata": {},
   "source": [
    "### 2. Write a Python Program to Find Factorial of Number Using Recursion?"
   ]
  },
  {
   "cell_type": "code",
   "execution_count": 12,
   "id": "90d13c44",
   "metadata": {},
   "outputs": [
    {
     "name": "stdout",
     "output_type": "stream",
     "text": [
      "Enter Number 6\n"
     ]
    },
    {
     "data": {
      "text/plain": [
       "720"
      ]
     },
     "execution_count": 12,
     "metadata": {},
     "output_type": "execute_result"
    }
   ],
   "source": [
    "def fact(n):\n",
    "    if (n==1 or n==0):\n",
    "         \n",
    "        return 1\n",
    "     \n",
    "    else:\n",
    "         \n",
    "        return (n * fact(n - 1))\n",
    "n=int(input(\"Enter Number \"))\n",
    "fact(n)"
   ]
  },
  {
   "cell_type": "markdown",
   "id": "0357b86f",
   "metadata": {},
   "source": [
    "### 3. Write a Python Program to calculate your Body Mass Index?"
   ]
  },
  {
   "cell_type": "code",
   "execution_count": 22,
   "id": "0c26cd99",
   "metadata": {},
   "outputs": [
    {
     "name": "stdout",
     "output_type": "stream",
     "text": [
      "Input your height in Meters(m) 1.65\n",
      "Input your weight in Kilogram(Kg) 67.9\n",
      "Your body mass index is(BMI) = 24.94\n"
     ]
    }
   ],
   "source": [
    "ht = eval(input(\"Input your height in Meters(m) \"))\n",
    "wt = eval(input(\"Input your weight in Kilogram(Kg) \"))\n",
    "print(\"Your body mass index is(BMI) =\", round(wt / (ht * ht), 2))"
   ]
  },
  {
   "cell_type": "markdown",
   "id": "96d344a4",
   "metadata": {},
   "source": [
    "### 4. Write a Python Program to calculate the natural logarithm of any number?"
   ]
  },
  {
   "cell_type": "code",
   "execution_count": 28,
   "id": "5e236b5e",
   "metadata": {},
   "outputs": [
    {
     "name": "stdout",
     "output_type": "stream",
     "text": [
      "Enter the number for natural logarithm value 2.718281828459045\n",
      "Natural log of 2.718281828459045 = 1.0\n"
     ]
    }
   ],
   "source": [
    "import math\n",
    "n=eval(input(\"Enter the number for natural logarithm value \"))\n",
    "print(\"Natural log of\",n,\"=\", math.log(n))"
   ]
  },
  {
   "cell_type": "markdown",
   "id": "11c0d92c",
   "metadata": {},
   "source": [
    "\n",
    "### 5. Write a Python Program for cube sum of first n natural numbers?\n"
   ]
  },
  {
   "cell_type": "code",
   "execution_count": 31,
   "id": "0229a37d",
   "metadata": {},
   "outputs": [
    {
     "name": "stdout",
     "output_type": "stream",
     "text": [
      "Enter the terms to sum-up 5\n",
      "Sum of 5 Natural Number= 225\n"
     ]
    }
   ],
   "source": [
    "n=eval(input(\"Enter the terms to sum-up \"))\n",
    "s=0\n",
    "for i in range(n+1):\n",
    "    s=s+i**3\n",
    "print(\"Sum of\",i,\"Natural Number=\" ,s)"
   ]
  },
  {
   "cell_type": "markdown",
   "id": "dca65674",
   "metadata": {},
   "source": [
    "                                                    ***End***"
   ]
  }
 ],
 "metadata": {
  "kernelspec": {
   "display_name": "Python 3",
   "language": "python",
   "name": "python3"
  },
  "language_info": {
   "codemirror_mode": {
    "name": "ipython",
    "version": 3
   },
   "file_extension": ".py",
   "mimetype": "text/x-python",
   "name": "python",
   "nbconvert_exporter": "python",
   "pygments_lexer": "ipython3",
   "version": "3.8.8"
  }
 },
 "nbformat": 4,
 "nbformat_minor": 5
}
